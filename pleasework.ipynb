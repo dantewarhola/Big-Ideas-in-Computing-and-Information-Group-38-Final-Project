{
 "cells": [
  {
   "cell_type": "markdown",
   "metadata": {},
   "source": [
    "Introduction:\n",
    "\n",
    "This is our Final Project for Big Ideas in Computing and Information in which we were tasked with finding the 'best' neighborhood in Pittsburgh. To determine the best neighborhood, we looked at a multitude of different datasets, which gave us many ideas for what our metric could be. We originally started out with finding the highest rent-to-income ratio among neighborhoods, but eventually landed on the best neighborhood to own a dog in."
   ]
  },
  {
   "cell_type": "markdown",
   "metadata": {},
   "source": [
    "The Metric:\n",
    "\n",
    "For our final project we found the best city to own a dog in. To do this, we used the metrics of the number of parks, amount of traffic, and number of smart trash containers a neighborhood has. We decided on these metrics as parks are a great place to walk a dog, lots of traffic is unsafe for dogs, and trash containers are needed while walking a dog. With these three metrics combined we were able to figure out what the best niehgborhood to own a dog in is. Below are links of the datasets used in our investigation.\n",
    "\n",
    "- https://data.wprdc.org/dataset/smart-trash-containers/resource/75b83ac9-8069-4cf1-bcc3-b9e6b04487d9\n",
    "- https://data.wprdc.org/dataset/parks/resource/fa329e3d-89ff-4708-8dall-81bfedcad11d/view/3dae5fa4-b30f-467c-84bc-f42e670b2fce\n",
    "- https://data.wprdc.org/dataset/traffic-count-data-city-of-pittsburgh"
   ]
  },
  {
   "cell_type": "markdown",
   "metadata": {},
   "source": [
    "**The Best Neighborhood**"
   ]
  },
  {
   "cell_type": "code",
   "execution_count": 1,
   "metadata": {},
   "outputs": [],
   "source": [
    "#Import necessary libraries\n",
    "import pandas as pd\n",
    "import matplotlib.pyplot as plt"
   ]
  },
  {
   "cell_type": "markdown",
   "metadata": {},
   "source": [
    "First we need to import the datasets and preprocess/clean up the data for our use case. For each dataset, we will be looking for the neighborhood and our chosen statistic.\n"
   ]
  },
  {
   "cell_type": "markdown",
   "metadata": {},
   "source": [
    "**Trash Containers**"
   ]
  },
  {
   "cell_type": "code",
   "execution_count": null,
   "metadata": {},
   "outputs": [],
   "source": [
    "# import data set and get only the neighborhoods\n",
    "containers = pd.read_csv('nfb25/trash-containers.csv')\n",
    "containers = containers[['neighborhood']]\n",
    "containers.head()"
   ]
  },
  {
   "cell_type": "markdown",
   "metadata": {},
   "source": [
    "As this data contains each trash container along with the neighborhood it is in, after only keeping the neighborhoods, we are left with all the neighborhood occurances. This is great, but does not give us the count of each neighborhood in a useful way."
   ]
  },
  {
   "cell_type": "code",
   "execution_count": null,
   "metadata": {},
   "outputs": [],
   "source": [
    "# get count of each neighborhood\n",
    "containers = containers['neighborhood'].value_counts()\n",
    "data = {\n",
    "  \"neighborhood\": containers.keys(),\n",
    "  \"count\": containers.values\n",
    "}\n",
    "\n",
    "containers = pd.DataFrame(data)\n",
    "containers.head()"
   ]
  },
  {
   "cell_type": "markdown",
   "metadata": {},
   "source": [
    "The code above counts each occurance of each neighborhood and totals them. These values are then placed in a new column labeled count, representing the total number of smart trash containers located in each neighborhood. These are then sorted from highest to lowest for easier usage. After cleanup, we are left with the chart below.\n"
   ]
  },
  {
   "cell_type": "code",
   "execution_count": null,
   "metadata": {},
   "outputs": [],
   "source": [
    "# display chart of trash containers\n",
    "plt.figure(figsize=(15, 10))\n",
    "plt.xlabel('Neighborhood')\n",
    "plt.ylabel('Containers')\n",
    "plt.bar(containers['neighborhood'], containers['count'], width = .6, color='skyblue')\n",
    "plt.title('Smart Trash Containers Per Neighborhood')\n",
    "plt.xticks(rotation=45, ha='right')\n",
    "plt.xticks(fontsize=8)\n",
    "plt.tight_layout()\n",
    "plt.show()"
   ]
  },
  {
   "cell_type": "markdown",
   "metadata": {},
   "source": [
    "The chart above shows the number of smart trash containers located in each neighborhood. For our metric, the best neighborhood is located on the left as the more containers the better. Based on the data, Shadyside has the greatest number of smart trash containers, making it the best in this metric."
   ]
  },
  {
   "cell_type": "markdown",
   "metadata": {},
   "source": [
    "**Traffic**"
   ]
  },
  {
   "cell_type": "code",
   "execution_count": null,
   "metadata": {},
   "outputs": [],
   "source": [
    "# import formatted traffic for testing\n",
    "traffic = pd.read_csv('dantewarhola/traffic.csv')\n",
    "traffic = traffic.rename(columns={'average_daily_car_traffic': 'traffic'})\n",
    "traffic.head()"
   ]
  },
  {
   "cell_type": "markdown",
   "metadata": {},
   "source": [
    "The code above shows the average daily per traffic neighborhood in Pittsburgh. There is a lot of information insiode this dataframe that we do not need."
   ]
  },
  {
   "cell_type": "code",
   "execution_count": null,
   "metadata": {},
   "outputs": [],
   "source": [
    "df = pd.read_csv('dantewarhola/traffic.csv')\n",
    "df = df[['average_daily_car_traffic', 'neighborhood']]\n",
    "\n",
    "# Convert 'None' to NaN and sort the DataFrame\n",
    "df_sorted = df.replace('None', pd.NA).sort_values(by='average_daily_car_traffic', ascending=True)\n",
    "\n",
    "# Convert the column to integers, handling NaN values\n",
    "columns_to_convert = ['average_daily_car_traffic']\n",
    "\n",
    "for col in columns_to_convert:\n",
    "    df_sorted[col] = pd.to_numeric(df_sorted[col], errors='coerce').astype('Int64')\n",
    "\n",
    "df_sorted = df_sorted.groupby('neighborhood', as_index=False).mean().sort_values(by=\"average_daily_car_traffic\").dropna()\n",
    "\n",
    "df_sorted.head()"
   ]
  },
  {
   "cell_type": "markdown",
   "metadata": {},
   "source": [
    "I then was able to remove all of the useless information from the dataframe and organize it in ascending order."
   ]
  },
  {
   "cell_type": "code",
   "execution_count": null,
   "metadata": {},
   "outputs": [],
   "source": [
    "#display chart of trash containers\n",
    "plt.figure(figsize=(15, 10))\n",
    "plt.xlabel('Neighborhood')\n",
    "plt.ylabel('Traffic')\n",
    "plt.bar(traffic['neighborhood'], traffic['average_daily_car_traffic'], width = .6, color='skyblue')\n",
    "plt.title('Average Daily Traffic Per Neighborhood')\n",
    "plt.xticks(rotation=45, ha='right')\n",
    "plt.xticks(fontsize=8)\n",
    "plt.tight_layout()\n",
    "plt.show()"
   ]
  },
  {
   "cell_type": "markdown",
   "metadata": {},
   "source": [
    "The chart above shows the daily average traffic count per neighborhood. As traffic is unsafe for dogs, the best neighborhood is located on the left side of the chart. Based on this, the best neighborhood to own a dog based on traffic would be the Side Flats."
   ]
  },
  {
   "cell_type": "markdown",
   "metadata": {},
   "source": [
    "**Parks**"
   ]
  },
  {
   "cell_type": "code",
   "execution_count": null,
   "metadata": {},
   "outputs": [],
   "source": [
    "#display chart of parks \n",
    "#Reading the data\n",
    "import pandas as pd\n",
    "import matplotlib.pyplot as plt\n",
    "df = pd.read_csv('C:/Users/roger/Documents/GitHub/Big-Ideas-in-Computing-and-Information-Group-38-Final-Project/ROW03/Park.csv')\n",
    "#ONly reading the name and neighborhood column \n",
    "df = df[['name', 'neighborhood']]\n",
    "plt.figure(figsize = (20,10))\n",
    "#Counting the that the neighborhood appears \n",
    "numberofparks = df['neighborhood'].value_counts()\n",
    "#Making the x-axis neighborhood and the y-axis number of parks in every neighborhood \n",
    "plt.xlabel('neighborhood')\n",
    "plt.ylabel('number of parks in every neighborhood')\n",
    "#Designing the graph \n",
    "plt.bar(numberofparks.index, numberofparks, width = 0.5, color = 'skyblue')\n",
    "plt.title('# of parks in every pittsburgh neighborhood')\n",
    "plt.xticks(rotation = 45, ha = 'right', fontsize = 8)\n",
    "plt.tight_layout()\n",
    "plt.show()"
   ]
  },
  {
   "cell_type": "markdown",
   "metadata": {},
   "source": [
    "The chart above shows the neighborhood names on the x axis and the number of parks in each neighborhood, in order to determine the best neighborhood to own a dog, the more park the better because more parks allows dogs to enjoy running around without a leash and interacting with other dogs and people as well."
   ]
  },
  {
   "cell_type": "markdown",
   "metadata": {},
   "source": [
    "Since each metric is very different, we need some way to incorporate all of the metrics. In order to combine the metrics to get the best neighborhood, we used the pandas function 'rank', which allowed us to compute the best neighborhood. As this process incorporates all three metrics, we needed to include weights for each of the metrics. These weights allowed us to involve all three metrics and make sure that each of them contributed to the final result."
   ]
  },
  {
   "cell_type": "code",
   "execution_count": null,
   "metadata": {},
   "outputs": [],
   "source": [
    "all = pd.merge(containers, traffic, on='neighborhood')\n",
    "all['average_daily_car_traffic'] = all['average_daily_car_traffic'] * -1\n",
    "all['rank'] = (all['count'] * 50 + all['average_daily_car_traffic']).rank(ascending=False).astype('int64')\n",
    "all = all.sort_values(by='rank')\n",
    "print(all)\n",
    "\n",
    "# will need to mess around with the weights/how the ranking system works"
   ]
  },
  {
   "cell_type": "markdown",
   "metadata": {},
   "source": [
    "**Conclusion**"
   ]
  },
  {
   "cell_type": "markdown",
   "metadata": {},
   "source": [
    "Based on all the data presented, we have come to the conclusion that based on the number of smart trash containers, average daily traffic, and the number of parks, that the best neighborhood to own a dog is Squirrel Hill South."
   ]
  }
 ],
 "metadata": {
  "kernelspec": {
   "display_name": "Python 3",
   "language": "python",
   "name": "python3"
  },
  "language_info": {
   "codemirror_mode": {
    "name": "ipython",
    "version": 3
   },
   "file_extension": ".py",
   "mimetype": "text/x-python",
   "name": "python",
   "nbconvert_exporter": "python",
   "pygments_lexer": "ipython3",
   "version": "3.9.13"
  }
 },
 "nbformat": 4,
 "nbformat_minor": 2
}
